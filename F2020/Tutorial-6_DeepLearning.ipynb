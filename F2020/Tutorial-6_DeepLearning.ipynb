{
  "nbformat": 4,
  "nbformat_minor": 0,
  "metadata": {
    "colab": {
      "name": "Tutorial-6_DeepLearning.ipynb",
      "provenance": [],
      "machine_shape": "hm"
    },
    "kernelspec": {
      "name": "python3",
      "display_name": "Python 3"
    },
    "accelerator": "GPU"
  },
  "cells": [
    {
      "cell_type": "markdown",
      "metadata": {
        "id": "view-in-github"
      },
      "source": [
        "# Tutorial 6 - Deep Learning\n",
        "\n",
        "**Course:** SYS 4906 - Introduuction to Machine Learning\n",
        "\n",
        "**Semester:** Fall 2020\n",
        "\n",
        "**Adapted by:** [Kevin Dick](https://kevindick.ai/)\n",
        "\n",
        "**Adapted from:** [Keras v. TensorFlow Tutorial](https://www.pyimagesearch.com/2018/10/08/keras-vs-tensorflow-which-one-is-better-and-which-one-should-i-learn/) and [LSTM Neural Network to Predict the Stock Market](https://github.com/jaungiers/LSTM-Neural-Network-for-Time-Series-Prediction)\n",
        "\n",
        "---\n",
        "\n",
        "In this two-part notebook, we will demonstrate the creation of a Convolutional Neural Network classifier (part I) and a Long-Short Term Memory (LSTM) Recurrent Neuural Network classifier (part II):\n",
        "\n",
        "**Part 0: Introduction to the Keras API**\n",
        "\n",
        "**Part I: CNN for CIFAR-10 Classification**\n",
        "1. load a benchmark computer vision dataset (CIFAR-10)\n",
        "2. create a VGGNet-like architecture\n",
        "3. train, evaluate, and test the model on the CIFAR-10 benchmark\n",
        "**Part II: LSTM for Stock Market Prediction** \n",
        "1. load historical stock data for a given ticker symbol\n",
        "2. normalize stock data within a given window\n",
        "3. create an LSTM model and fit it to training data\n",
        "4. generate and plot predictions over future\n",
        "\n",
        "---\n",
        "# Part 0: Introduction to the Keras API\n",
        "\n",
        "## Keras: The Python Deep Learning API\n",
        "\n",
        "Keras is the **high-level API of TensorFlow 2.0**, meant to be an approchable and highly-productive interface for solving machine learning problems, with a focus on modern deep learning. It **provides essential abstractions** and building blocks for developing and shipping machine learning solutions with high iteration velocity.\n",
        "\n",
        "## The Convolutional Neural Network (CNN)\n",
        "\n",
        "In deep learning, a convolutional neural network (CNN, or ConvNet) is a class of deep neural networks, **most commonly applied to analyzing visual imagery**. They are also known as **shift invariant** or **space invariant artificial neural networks**, based on their shared-weights architecture and translation invariance characteristics.\n",
        "\n",
        "In this tutorial, we will implement a VGG-type CNN based on the work of the **V**isual **G**eometry **G**roup at the University of Oxford. Several pre-trained model architectures and learned weights are easily downloadable from the Keras library, such as the **VGG-16 model**.\n",
        "\n",
        "**Additional Reading**: [10 Illustrated CNN Architectures](https://towardsdatascience.com/illustrated-10-cnn-architectures-95d78ace614d)\n",
        "\n",
        "---\n",
        "\n",
        "When first learning to create deep learning models, it is important to understand the role of each type of layer; familiairization of the **[Keras API documentation](https://keras.io/api/layers/))** is one of the best approaches!\n",
        "\n",
        "For convenience, three of the **[Core Layers](https://keras.io/api/layers/core_layers/)** covered in part I of this tutorial are replicated here:\n",
        "\n",
        "### Keras Layers: **[Input Object](https://keras.io/api/layers/core_layers/input/)**\n",
        "\n",
        "```python\n",
        "tf.keras.Input(\n",
        "    shape=None,     # A shape tuple (integers), not including the batch size. For instance, shape=(32,) indicates that the expected input will be batches of 32-dimensional vectors.\n",
        "    batch_size=None,# optional static batch size (integer).\n",
        "    name=None,      # An optional name string for the layer. Should be unique in a model (do not reuse the same name twice).\n",
        "    dtype=None,     # The data type expected by the input, as a string (float32, float64, int32...)\n",
        "    sparse=False,   # A boolean specifying whether the placeholder to be created is sparse. \n",
        "    tensor=None,    # Optional existing tensor to wrap into the Input layer. \n",
        "    ragged=False,   # A boolean specifying whether the placeholder to be created is ragged.\n",
        "    **kwargs\n",
        ")\n",
        "```\n",
        "\n",
        "### Keras Layers: **[Dense Layer](https://keras.io/api/layers/core_layers/dense/)**\n",
        "\n",
        "\n",
        "```python\n",
        "tf.keras.layers.Dense(\n",
        "    units,                              # Positive integer, dimensionality of the output space.\n",
        "    activation=None,                    # Activation function to use. If you don't specify anything, no activation is applied (ie. \"linear\" activation: a(x) = x).\n",
        "    use_bias=True,                      # Boolean, whether the layer uses a bias vector.\n",
        "    kernel_initializer=\"glorot_uniform\",# Initializer for the kernel weights matrix.\n",
        "    bias_initializer=\"zeros\",           # Initializer for the bias vector.\n",
        "    kernel_regularizer=None,            # Regularizer function applied to the kernel weights matrix. \n",
        "    bias_regularizer=None,              # Regularizer function applied to the bias vector.\n",
        "    activity_regularizer=None,          # Regularizer function applied to the output of the layer (its \"activation\").\n",
        "    kernel_constraint=None,             # Constraint function applied to the kernel weights matrix.\n",
        "    bias_constraint=None,               # Constraint function applied to the bias vector.\n",
        "    **kwargs\n",
        ")\n",
        "```\n",
        "\n",
        "### Keras Layers: **[Activation Layer](https://keras.io/api/layers/core_layers/activation/)**\n",
        "```python\n",
        "tf.keras.layers.Activation(\n",
        "  activation, # Activation function, such as tf.nn.relu, or string name of built-in activation function, such as \"relu\"\n",
        "  **kwargs\n",
        ")\n",
        "```\n",
        "\n",
        "---\n",
        "\n",
        "# Part I: Building a VGG16 CNN Classifer for the the CIFAR-10 Dataset\n",
        "\n",
        "- VGG16 developed by the VGG (Visual Geometry Group, University of Oxford) for the ILSVRC-2014 competition. \n",
        "- Published at: [Very Deep Convolutional Networks for Large-Scale Image Recognition](https://arxiv.org/abs/1409.1556)\n",
        "- Note that VGG16 is available (pre-trained) through Keras.applications\n",
        "\n",
        "```python\n",
        "        from keras.applications import VGG16\n",
        "        VGG16.summary() # Print a summary of the network structure\n",
        "```\n",
        "    \n",
        "- VGGNet-like architectures are characterized by: \n",
        "    1. Using only 3×3 convolutional layers stacked on top of each other in increasing depth\n",
        "    2. Reducing volume size by max pooling\n",
        "    3. Fully-connected layers at the end of the network prior to a softmax classifier\n",
        "\n",
        "\n",
        "### The CIFAR-10 Dataset\n",
        "\n",
        "**Fun Fact:** CIFAR = \"Canadian Institute For Advanced Research\"\n",
        "\n",
        "A **benchmark dataset** is a reference database against which learning models are evaluated and performance assessed to determine whether or not a given approach is superior over another.\n",
        "\n",
        "The CIFAR-10 dataset consists of 60,000 32x32 colour images in 10 classes, with 6,000 images per class. There are 50,000 training images and 10,000 test images.\n",
        "\n",
        "The classes are: [\"airplane\", \"automobile\", \"bird\", \"cat\", \"deer\", \"dog\", \"frog\", \"horse\", \"ship\", \"truck\"]\n",
        "\n",
        "![CIFAR-10](https://raw.githubusercontent.com/dmlc/web-data/master/gluoncv/datasets/cifar10.png)\n",
        "\n",
        "The dataset is divided into **five training batches and one test batch**, each with 10,000 images. The **test batch contains exactly 1,000 randomly-selected images from each class**. The training batches contain the remaining images in random order, but some training batches may contain more images from one class than another. Between them, the training batches contain exactly 5,000 images from each class.\n",
        "\n",
        "Published at: https://www.cs.toronto.edu/~kriz/cifar.html\n",
        "\n",
        "---\n",
        "\n",
        "### Hardware Acceleration: Enabling the Collab GPU\n",
        "\n",
        "To accelerate the training-phase and inference-phase of deep learning models, Google collab provides GPUs which greatly accellerates model development.\n",
        "\n",
        "For example, using CPU alone, each epoch of the CNN would require ~450 seconds whereas with GPU each only requires ~7s.\n",
        "\n",
        "To verify whether GPUs are enables:  `Runtime` $\\rightarrow$ `Change runtime type` $\\rightarrow$ `Hardware accelerator`"
      ]
    },
    {
      "cell_type": "code",
      "metadata": {
        "id": "qT5h_hOcPNsr"
      },
      "source": [
        "# import the necessary packages\n",
        "from keras.layers.normalization import BatchNormalization\n",
        "from keras.layers.convolutional import Conv2D\n",
        "from keras.layers.convolutional import MaxPooling2D\n",
        "from keras.layers.core import Activation\n",
        "from keras.layers.core import Dropout\n",
        "from keras.layers.core import Dense\n",
        "from keras.layers import Flatten\n",
        "from keras.layers import Input\n",
        "from keras.models import Model\n",
        "from keras.optimizers import SGD\n",
        "\n",
        "from sklearn.preprocessing import LabelBinarizer # For 1-hot encoding of 10 class labels\n",
        "from keras.datasets import cifar10  \t\t\t\t\t\t # Built-in dataset of images.\n",
        "from sklearn.metrics import classification_report\n",
        "\n",
        "import matplotlib\n",
        "%matplotlib inline\n",
        "import matplotlib.pyplot as plt\n",
        "import numpy as np"
      ],
      "execution_count": 1,
      "outputs": []
    },
    {
      "cell_type": "markdown",
      "metadata": {
        "id": "VaC0vSNCz1zm"
      },
      "source": [
        "### Define the \"MiniVGGnetKeras\" Class \n",
        "\n",
        "The \"MiniVGGNetKeras\" class that will build the VGG deep net when `.build()` is invoked upon an instance of this class object."
      ]
    },
    {
      "cell_type": "code",
      "metadata": {
        "id": "CSnX1H7l3Dpy"
      },
      "source": [
        "# Define a class to represent the VGG-type network. Instantiate using build()\n",
        "class MiniVGGNetKeras:\n",
        "\t@staticmethod\n",
        "\tdef build(width, height, depth, classes):\n",
        "\t\t# initialize the input shape and channel dimension, assuming\n",
        "\t\t# TensorFlow/channels-last ordering\n",
        "\t\tinputShape = (height, width, depth)\n",
        "\t\tchanDim = -1\n",
        " \n",
        "\t\t# define the model input (layer)\n",
        "\t\tinputs = Input(shape=inputShape)\n",
        "  \n",
        "  \t# first (CONV => RELU) * 2 => POOL layer set\n",
        "\t\tx = Conv2D(32, (3, 3), padding=\"same\")(inputs) # padding=same --> output same size as input by padding by filter/2 rows/cols of zeros\n",
        "\t\tx = Activation(\"relu\")(x) \t\t\t\t\t\t\t\t\t\t # Add a rectified linear unit activation function to each conv layer\n",
        "\t\tx = BatchNormalization(axis=chanDim)(x)  \t\t\t # Use batch normalization. We will talk about this later\n",
        "\t\tx = Conv2D(32, (3, 3), padding=\"same\")(x)\n",
        "\t\tx = Activation(\"relu\")(x)\n",
        "\t\tx = BatchNormalization(axis=chanDim)(x)\n",
        "\t\tx = MaxPooling2D(pool_size=(2, 2))(x) \t\t\t\t\t# MaxPooling uased after the first 2 conv layers. Reduces size of subsequent layers by down-sampling\n",
        "\t\tx = Dropout(0.25)(x)  \t\t\t\t\t\t\t\t\t\t\t\t\t# Dropout used to promote generalization. We'll talk about this layer type later in the course...\n",
        " \n",
        "\t\t# second (CONV => RELU) * 2 => POOL layer set\n",
        "\t\tx = Conv2D(64, (3, 3), padding=\"same\")(x)\n",
        "\t\tx = Activation(\"relu\")(x)\n",
        "\t\tx = BatchNormalization(axis=chanDim)(x)\n",
        "\t\tx = Conv2D(64, (3, 3), padding=\"same\")(x)\n",
        "\t\tx = Activation(\"relu\")(x)\n",
        "\t\tx = BatchNormalization(axis=chanDim)(x)\n",
        "\t\tx = MaxPooling2D(pool_size=(2, 2))(x)\n",
        "\t\tx = Dropout(0.25)(x)\n",
        "  \n",
        "    # first (and only) set of FC => RELU layers\n",
        "\t\tx = Flatten()(x)  # Flatten the 2D maxPooling2D layer to feed into a fully-connected layer\n",
        "\t\tx = Dense(512)(x)\n",
        "\t\tx = Activation(\"relu\")(x)\n",
        "\t\tx = BatchNormalization()(x)\n",
        "\t\tx = Dropout(0.5)(x)\n",
        " \n",
        "\t\t# Softmax classifier layer for arriving at normalized prediction scores for multi-class problem. \n",
        "    # Softmax assigns decimal probabilities to each class in a multi-class problem. Those decimal probabilities must add up to 1.0.\n",
        "    # Only makes sense when each image is expected to represent a single class (not a dog & a cat simultaneously)\n",
        "\t\tx = Dense(classes)(x)\n",
        "\t\tx = Activation(\"softmax\")(x)\n",
        " \n",
        "\t\t# create the model and give it a unique name\n",
        "\t\tmodel = Model(inputs, x, name=\"minivggnet_keras\")\n",
        " \n",
        "\t\t# return the constructed network architecture\n",
        "\t\treturn model"
      ],
      "execution_count": 2,
      "outputs": []
    },
    {
      "cell_type": "markdown",
      "metadata": {
        "id": "QBlf-SNB0a3T"
      },
      "source": [
        "# Download and prepare the CIFAR-10 dataset"
      ]
    },
    {
      "cell_type": "code",
      "metadata": {
        "id": "tNIPZtw30ejP",
        "outputId": "72308ef0-a9ce-448c-ac8f-647908c76e28",
        "colab": {
          "base_uri": "https://localhost:8080/",
          "height": 34
        }
      },
      "source": [
        "# load the training and testing data, then scale it into the range [0, 1]\n",
        "print(\"[INFO] loading CIFAR-10 data...\")\n",
        "((trainX, trainY), (testX, testY)) = cifar10.load_data()\n",
        "trainX = trainX.astype(\"float\") / 255.0\n",
        "testX  = testX.astype(\"float\") / 255.0\n",
        " \n",
        "# convert the labels from integers to vectors\n",
        "lb = LabelBinarizer()\n",
        "trainY = lb.fit_transform(trainY)\n",
        "testY = lb.transform(testY)\n",
        " \n",
        "# initialize the label names for the CIFAR-10 dataset\n",
        "labelNames = [\"airplane\", \"automobile\", \"bird\", \"cat\", \"deer\",\n",
        "\t\"dog\", \"frog\", \"horse\", \"ship\", \"truck\"]\n"
      ],
      "execution_count": 2,
      "outputs": [
        {
          "output_type": "stream",
          "text": [
            "[INFO] loading CIFAR-10 data...\n"
          ],
          "name": "stdout"
        }
      ]
    },
    {
      "cell_type": "markdown",
      "metadata": {
        "id": "ME1RYqOJz-9O"
      },
      "source": [
        "# Build and train a VGG16 model using the CIFAR-10 dataset"
      ]
    },
    {
      "cell_type": "code",
      "metadata": {
        "id": "o1Znz2OktTPY",
        "outputId": "4cdb7c20-fdb6-4bcb-874c-146e7c55533d",
        "colab": {
          "base_uri": "https://localhost:8080/",
          "height": 1000
        }
      },
      "source": [
        "# initialize the initial learning rate, total number of epochs to\n",
        "# train for, and batch size\n",
        "INIT_LR = 0.01\n",
        "EPOCHS = 30 # Each epoch takes 450s using CPU and only ~30s using GPU (Runtime->Change runtime->EnableGPU)\n",
        "BS = 32\n",
        " \n",
        "# initialize the optimizer and model\n",
        "print(\"[INFO] compiling model...\")\n",
        "opt = SGD(lr=INIT_LR, decay=INIT_LR / EPOCHS)\n",
        "model = MiniVGGNetKeras.build(width=32, height=32, depth=3, classes=len(labelNames))\n",
        "model.compile(loss=\"categorical_crossentropy\", optimizer=opt, metrics=[\"accuracy\"])\n",
        "\n",
        "# Visualize the network structure (image is cropped unfortunately...)\n",
        "#from IPython.display import SVG\n",
        "#from keras.utils.vis_utils import model_to_dot\n",
        "#SVG(model_to_dot(model).create(prog='dot', format='svg'))\n",
        "print(model.summary())"
      ],
      "execution_count": 11,
      "outputs": [
        {
          "output_type": "stream",
          "text": [
            "[INFO] compiling model...\n",
            "Model: \"minivggnet_keras\"\n",
            "_________________________________________________________________\n",
            "Layer (type)                 Output Shape              Param #   \n",
            "=================================================================\n",
            "input_3 (InputLayer)         [(None, 32, 32, 3)]       0         \n",
            "_________________________________________________________________\n",
            "conv2d_4 (Conv2D)            (None, 32, 32, 32)        896       \n",
            "_________________________________________________________________\n",
            "activation_6 (Activation)    (None, 32, 32, 32)        0         \n",
            "_________________________________________________________________\n",
            "batch_normalization_5 (Batch (None, 32, 32, 32)        128       \n",
            "_________________________________________________________________\n",
            "conv2d_5 (Conv2D)            (None, 32, 32, 32)        9248      \n",
            "_________________________________________________________________\n",
            "activation_7 (Activation)    (None, 32, 32, 32)        0         \n",
            "_________________________________________________________________\n",
            "batch_normalization_6 (Batch (None, 32, 32, 32)        128       \n",
            "_________________________________________________________________\n",
            "max_pooling2d_2 (MaxPooling2 (None, 16, 16, 32)        0         \n",
            "_________________________________________________________________\n",
            "dropout_3 (Dropout)          (None, 16, 16, 32)        0         \n",
            "_________________________________________________________________\n",
            "conv2d_6 (Conv2D)            (None, 16, 16, 64)        18496     \n",
            "_________________________________________________________________\n",
            "activation_8 (Activation)    (None, 16, 16, 64)        0         \n",
            "_________________________________________________________________\n",
            "batch_normalization_7 (Batch (None, 16, 16, 64)        256       \n",
            "_________________________________________________________________\n",
            "conv2d_7 (Conv2D)            (None, 16, 16, 64)        36928     \n",
            "_________________________________________________________________\n",
            "activation_9 (Activation)    (None, 16, 16, 64)        0         \n",
            "_________________________________________________________________\n",
            "batch_normalization_8 (Batch (None, 16, 16, 64)        256       \n",
            "_________________________________________________________________\n",
            "max_pooling2d_3 (MaxPooling2 (None, 8, 8, 64)          0         \n",
            "_________________________________________________________________\n",
            "dropout_4 (Dropout)          (None, 8, 8, 64)          0         \n",
            "_________________________________________________________________\n",
            "flatten_1 (Flatten)          (None, 4096)              0         \n",
            "_________________________________________________________________\n",
            "dense_2 (Dense)              (None, 512)               2097664   \n",
            "_________________________________________________________________\n",
            "activation_10 (Activation)   (None, 512)               0         \n",
            "_________________________________________________________________\n",
            "batch_normalization_9 (Batch (None, 512)               2048      \n",
            "_________________________________________________________________\n",
            "dropout_5 (Dropout)          (None, 512)               0         \n",
            "_________________________________________________________________\n",
            "dense_3 (Dense)              (None, 10)                5130      \n",
            "_________________________________________________________________\n",
            "activation_11 (Activation)   (None, 10)                0         \n",
            "=================================================================\n",
            "Total params: 2,171,178\n",
            "Trainable params: 2,169,770\n",
            "Non-trainable params: 1,408\n",
            "_________________________________________________________________\n",
            "None\n"
          ],
          "name": "stdout"
        }
      ]
    },
    {
      "cell_type": "code",
      "metadata": {
        "id": "kKoxYc5f8_9y",
        "outputId": "07d2fb05-3391-44c1-d944-3502f68ed547",
        "colab": {
          "base_uri": "https://localhost:8080/",
          "height": 1000
        }
      },
      "source": [
        "# train the network\n",
        "print(\"[INFO] training network for {0:d} epochs...\".format(EPOCHS))\n",
        "H = model.fit(trainX, trainY, validation_data=(testX, testY),\n",
        "\tbatch_size=BS, epochs=EPOCHS, verbose=1)"
      ],
      "execution_count": 12,
      "outputs": [
        {
          "output_type": "stream",
          "text": [
            "[INFO] training network for 30 epochs...\n",
            "Epoch 1/30\n",
            "1563/1563 [==============================] - 9s 5ms/step - loss: 1.7501 - accuracy: 0.4195 - val_loss: 1.2928 - val_accuracy: 0.5366\n",
            "Epoch 2/30\n",
            "1563/1563 [==============================] - 8s 5ms/step - loss: 1.2784 - accuracy: 0.5454 - val_loss: 1.1093 - val_accuracy: 0.6059\n",
            "Epoch 3/30\n",
            "1563/1563 [==============================] - 8s 5ms/step - loss: 1.1556 - accuracy: 0.5915 - val_loss: 0.9898 - val_accuracy: 0.6516\n",
            "Epoch 4/30\n",
            "1563/1563 [==============================] - 8s 5ms/step - loss: 1.0747 - accuracy: 0.6183 - val_loss: 0.9679 - val_accuracy: 0.6614\n",
            "Epoch 5/30\n",
            "1563/1563 [==============================] - 8s 5ms/step - loss: 1.0226 - accuracy: 0.6362 - val_loss: 1.0084 - val_accuracy: 0.6426\n",
            "Epoch 6/30\n",
            "1563/1563 [==============================] - 8s 5ms/step - loss: 0.9864 - accuracy: 0.6524 - val_loss: 0.9504 - val_accuracy: 0.6630\n",
            "Epoch 7/30\n",
            "1563/1563 [==============================] - 8s 5ms/step - loss: 0.9605 - accuracy: 0.6619 - val_loss: 0.8589 - val_accuracy: 0.7002\n",
            "Epoch 8/30\n",
            "1563/1563 [==============================] - 8s 5ms/step - loss: 0.9375 - accuracy: 0.6694 - val_loss: 0.8586 - val_accuracy: 0.7017\n",
            "Epoch 9/30\n",
            "1563/1563 [==============================] - 8s 5ms/step - loss: 0.9137 - accuracy: 0.6789 - val_loss: 0.8191 - val_accuracy: 0.7125\n",
            "Epoch 10/30\n",
            "1563/1563 [==============================] - 8s 5ms/step - loss: 0.9018 - accuracy: 0.6821 - val_loss: 0.8640 - val_accuracy: 0.6961\n",
            "Epoch 11/30\n",
            "1563/1563 [==============================] - 8s 5ms/step - loss: 0.8889 - accuracy: 0.6862 - val_loss: 0.8253 - val_accuracy: 0.7094\n",
            "Epoch 12/30\n",
            "1563/1563 [==============================] - 8s 5ms/step - loss: 0.8768 - accuracy: 0.6898 - val_loss: 0.8031 - val_accuracy: 0.7200\n",
            "Epoch 13/30\n",
            "1563/1563 [==============================] - 8s 5ms/step - loss: 0.8596 - accuracy: 0.6973 - val_loss: 0.8190 - val_accuracy: 0.7116\n",
            "Epoch 14/30\n",
            "1563/1563 [==============================] - 8s 5ms/step - loss: 0.8532 - accuracy: 0.7008 - val_loss: 0.8122 - val_accuracy: 0.7169\n",
            "Epoch 15/30\n",
            "1563/1563 [==============================] - 8s 5ms/step - loss: 0.8447 - accuracy: 0.7023 - val_loss: 0.7853 - val_accuracy: 0.7248\n",
            "Epoch 16/30\n",
            "1563/1563 [==============================] - 8s 5ms/step - loss: 0.8374 - accuracy: 0.7054 - val_loss: 0.7839 - val_accuracy: 0.7253\n",
            "Epoch 17/30\n",
            "1563/1563 [==============================] - 8s 5ms/step - loss: 0.8277 - accuracy: 0.7079 - val_loss: 0.7873 - val_accuracy: 0.7250\n",
            "Epoch 18/30\n",
            "1563/1563 [==============================] - 8s 5ms/step - loss: 0.8188 - accuracy: 0.7105 - val_loss: 0.7811 - val_accuracy: 0.7271\n",
            "Epoch 19/30\n",
            "1563/1563 [==============================] - 8s 5ms/step - loss: 0.8145 - accuracy: 0.7144 - val_loss: 0.7805 - val_accuracy: 0.7234\n",
            "Epoch 20/30\n",
            "1563/1563 [==============================] - 8s 5ms/step - loss: 0.8080 - accuracy: 0.7166 - val_loss: 0.7747 - val_accuracy: 0.7270\n",
            "Epoch 21/30\n",
            "1563/1563 [==============================] - 8s 5ms/step - loss: 0.8048 - accuracy: 0.7158 - val_loss: 0.7926 - val_accuracy: 0.7214\n",
            "Epoch 22/30\n",
            "1563/1563 [==============================] - 8s 5ms/step - loss: 0.7973 - accuracy: 0.7206 - val_loss: 0.7681 - val_accuracy: 0.7318\n",
            "Epoch 23/30\n",
            "1563/1563 [==============================] - 8s 5ms/step - loss: 0.7921 - accuracy: 0.7223 - val_loss: 0.7635 - val_accuracy: 0.7325\n",
            "Epoch 24/30\n",
            "1563/1563 [==============================] - 8s 5ms/step - loss: 0.7861 - accuracy: 0.7230 - val_loss: 0.7735 - val_accuracy: 0.7259\n",
            "Epoch 25/30\n",
            "1563/1563 [==============================] - 8s 5ms/step - loss: 0.7879 - accuracy: 0.7214 - val_loss: 0.7486 - val_accuracy: 0.7351\n",
            "Epoch 26/30\n",
            "1563/1563 [==============================] - 8s 5ms/step - loss: 0.7820 - accuracy: 0.7247 - val_loss: 0.7344 - val_accuracy: 0.7431\n",
            "Epoch 27/30\n",
            "1563/1563 [==============================] - 8s 5ms/step - loss: 0.7775 - accuracy: 0.7272 - val_loss: 0.7218 - val_accuracy: 0.7471\n",
            "Epoch 28/30\n",
            "1563/1563 [==============================] - 8s 5ms/step - loss: 0.7729 - accuracy: 0.7272 - val_loss: 0.7173 - val_accuracy: 0.7474\n",
            "Epoch 29/30\n",
            "1563/1563 [==============================] - 8s 5ms/step - loss: 0.7689 - accuracy: 0.7283 - val_loss: 0.7332 - val_accuracy: 0.7438\n",
            "Epoch 30/30\n",
            "1563/1563 [==============================] - 9s 6ms/step - loss: 0.7638 - accuracy: 0.7312 - val_loss: 0.7382 - val_accuracy: 0.7395\n"
          ],
          "name": "stdout"
        }
      ]
    },
    {
      "cell_type": "code",
      "metadata": {
        "id": "82Lvht-2w8RU",
        "outputId": "e0e365f2-fd3d-4ece-aba5-9454fdeaa3de",
        "colab": {
          "base_uri": "https://localhost:8080/",
          "height": 294
        }
      },
      "source": [
        "# plot the training loss and accuracy\n",
        "plt.style.use(\"ggplot\")\n",
        "fig, (ax1, ax2) = plt.subplots(1, 2)\n",
        "fig.suptitle(\"Training Loss and Accuracy on Dataset\")\n",
        "ax1.plot(np.arange(0, EPOCHS), H.history[\"loss\"], label=\"train_loss\"); ax1.set_title('loss');\n",
        "ax1.plot(np.arange(0, EPOCHS), H.history[\"val_loss\"], label=\"val_loss\"); \n",
        "ax2.plot(np.arange(0, EPOCHS), H.history[\"accuracy\"], label=\"train_acc\"); ax2.set_title('acc');\n",
        "ax2.plot(np.arange(0, EPOCHS), H.history[\"val_accuracy\"], label=\"val_acc\"); \n",
        "plt.legend(bbox_to_anchor=(1.05, 1), loc='upper left', borderaxespad=0.)\n",
        "plt.show()"
      ],
      "execution_count": 21,
      "outputs": [
        {
          "output_type": "display_data",
          "data": {
            "image/png": "[encoded data removed]",
            "text/plain": [
              "<Figure size 432x288 with 2 Axes>"
            ]
          },
          "metadata": {
            "tags": []
          }
        }
      ]
    },
    {
      "cell_type": "markdown",
      "metadata": {
        "id": "fytqSXt01JXU"
      },
      "source": [
        "# Test the trained VGG16 network on the test data"
      ]
    },
    {
      "cell_type": "code",
      "metadata": {
        "id": "Z3E5lq9E1T9o",
        "outputId": "c5e22354-7597-4c6d-8e6b-85fbf000177f",
        "colab": {
          "base_uri": "https://localhost:8080/",
          "height": 323
        }
      },
      "source": [
        "# evaluate the network\n",
        "print(\"[INFO] evaluating network...\")\n",
        "predictions = model.predict(testX, batch_size=32)\n",
        "print(classification_report(testY.argmax(axis=1),  ## classification_report() outputs the precision etc for each class\n",
        "\tpredictions.argmax(axis=1), target_names=labelNames))\n"
      ],
      "execution_count": 22,
      "outputs": [
        {
          "output_type": "stream",
          "text": [
            "[INFO] evaluating network...\n",
            "              precision    recall  f1-score   support\n",
            "\n",
            "    airplane       0.84      0.68      0.75      1000\n",
            "  automobile       0.93      0.78      0.85      1000\n",
            "        bird       0.73      0.53      0.61      1000\n",
            "         cat       0.57      0.56      0.57      1000\n",
            "        deer       0.62      0.77      0.69      1000\n",
            "         dog       0.67      0.62      0.64      1000\n",
            "        frog       0.70      0.91      0.79      1000\n",
            "       horse       0.86      0.75      0.80      1000\n",
            "        ship       0.79      0.90      0.84      1000\n",
            "       truck       0.79      0.88      0.83      1000\n",
            "\n",
            "    accuracy                           0.74     10000\n",
            "   macro avg       0.75      0.74      0.74     10000\n",
            "weighted avg       0.75      0.74      0.74     10000\n",
            "\n"
          ],
          "name": "stdout"
        }
      ]
    },
    {
      "cell_type": "markdown",
      "metadata": {
        "id": "iScLdHhHZAYV"
      },
      "source": [
        "The **[f1-score](https://scikit-learn.org/stable/modules/generated/sklearn.metrics.f1_score.html)** gives you the **harmonic mean of precision and recall**. The scores corresponding to every class will tell you the accuracy of the classifier in classifying the data points in that particular class compared to all other classes.\n",
        "\n",
        "The **[support](https://scikit-learn.org/stable/modules/generated/sklearn.metrics.precision_recall_fscore_support.html)** is the **number of samples of the true response** that lie in **that class**."
      ]
    },
    {
      "cell_type": "markdown",
      "metadata": {
        "id": "IO7YLb4PlGDf"
      },
      "source": [
        "### Comparison: Try the Pre-Trained VGG16 Model from Keras\n",
        "\n",
        "Rather than define our own mini-VGGNet model and train it from scratch, we can leverage the pre-trained VGG-16 model and compare its performance.\n"
      ]
    },
    {
      "cell_type": "code",
      "metadata": {
        "id": "r99Nvt1uxk39",
        "outputId": "a52096c1-4902-4559-c0ce-f40db7f6b758",
        "colab": {
          "base_uri": "https://localhost:8080/",
          "height": 34
        }
      },
      "source": [
        "from keras.applications import VGG19\n",
        "from keras.preprocessing import image\n",
        "#from keras.applications.vgg16 import preprocess_input, decode_predictions\n",
        "import cv2  # OpenCV. Useful for loading/manipulating/saving images\n",
        "import numpy as np\n",
        "\n",
        "print('Shape of original test data:', testX.shape)\n",
        "# Load the built-in pre-trained VGG16 model and apply it to the test set\n",
        "#pretrained_model = VGG16(weights='imagenet', include_top=True)\n",
        "pretrained_model = VGG19(include_top=False,weights='imagenet',input_shape=(32,32,3),classes=trainY.shape[1])"
      ],
      "execution_count": 3,
      "outputs": [
        {
          "output_type": "stream",
          "text": [
            "Shape of original test data: (10000, 32, 32, 3)\n"
          ],
          "name": "stdout"
        }
      ]
    },
    {
      "cell_type": "code",
      "metadata": {
        "id": "Frp2bv47lBEI",
        "outputId": "581888e5-28b8-4381-fd4c-67a5550de04c",
        "colab": {
          "base_uri": "https://localhost:8080/",
          "height": 51
        }
      },
      "source": [
        "# Need to resize the test images from 32x32 to 244x244 to work with the pre-trained VGG16 network\n",
        "def resize_data(data):\n",
        "    data_upscaled = np.zeros((data.shape[0], 244, 244, 3))\n",
        "    for i, img in enumerate(data):\n",
        "        large_img = cv2.resize(img, dsize=(244, 244), interpolation=cv2.INTER_CUBIC)\n",
        "        data_upscaled[i] = large_img\n",
        "\n",
        "    return data_upscaled\n",
        "\n",
        "# resize test data\n",
        "print('Resizing images...')\n",
        "x_test_resized = resize_data(testX)\n",
        "print('Shape of resized test data:', x_test_resized.shape) "
      ],
      "execution_count": 5,
      "outputs": [
        {
          "output_type": "stream",
          "text": [
            "Resizing images...\n",
            "Shape of resized test data: (10000, 244, 244, 3)\n"
          ],
          "name": "stdout"
        }
      ]
    },
    {
      "cell_type": "code",
      "metadata": {
        "id": "60A3g1QUxsrV",
        "outputId": "c1b54e69-b8d4-48bf-f73e-5c1ae14a2033",
        "colab": {
          "base_uri": "https://localhost:8080/",
          "height": 71
        }
      },
      "source": [
        "# evaluate the network\n",
        "## Getting an error; giving up. If anyone can solve this, please email me and I'll update the example!\n",
        "print(\"[INFO] evaluating network...\")\n",
        "predictions = pretrained_model.predict(x_test_resized, batch_size=32)\n",
        "decode_predictions(predictions)\n",
        "print(classification_report(testY.argmax(axis=1), \n",
        "                            predictions.argmax(axis=1), \n",
        "                            target_names=labelNames), \n",
        "      labels=labelNames)"
      ],
      "execution_count": null,
      "outputs": [
        {
          "output_type": "stream",
          "text": [
            "[INFO] evaluating network...\n",
            "WARNING:tensorflow:Model was constructed with shape (None, 32, 32, 3) for input Tensor(\"input_1:0\", shape=(None, 32, 32, 3), dtype=float32), but it was called on an input with incompatible shape (None, 244, 244, 3).\n"
          ],
          "name": "stdout"
        }
      ]
    },
    {
      "cell_type": "markdown",
      "metadata": {
        "id": "acgMfeP47gZK"
      },
      "source": [
        "# Part II: Building an LSTM for Stock Market Prediction\n",
        "\n",
        "**Long short-term memory (LSTM)** is an artificial recurrent neural network (RNN) architecture used in the field of deep learning. Unlike standard feedforward neural networks, LSTMs have feedback connections.\n",
        "\n",
        "A common architecture is composed of a **cell** (the memory part of the LSTM unit) and three **\"regulators\", usually called gates**, of the flow of information inside the LSTM unit: an **input gate**, an **output gate** and a **forget gate**. \n",
        "\n",
        "LSTM units can be **trained in a supervised fashion**, on a set of training sequences, using an optimization algorithm, like **gradient descent**, combined with **backpropagation through time** to compute the gradients needed during the optimization process, in order to change each weight of the LSTM network in proportion to the derivative of the error (at the output layer of the LSTM network) with respect to corresponding weight.\n",
        "\n",
        "**Vanishing Gradients Problem:** A problem with using gradient descent for standard RNNs is that error gradients vanish exponentially quickly with the size of the time lag between important events."
      ]
    },
    {
      "cell_type": "code",
      "metadata": {
        "id": "M_nsiO0H75D2"
      },
      "source": [
        "import time\n",
        "import warnings\n",
        "import numpy as np\n",
        "from numpy import newaxis\n",
        "from keras.layers.core import Dense, Activation, Dropout\n",
        "from keras.layers.recurrent import LSTM\n",
        "from keras.models import Sequential\n",
        "import matplotlib.pyplot as plt\n",
        "import pandas as pd\n",
        "warnings.filterwarnings(\"ignore\")\n",
        "\n",
        "# Function to plot the predictions of non-overlapping windows.\n",
        "# Start with a full window of test data, then predict until window_len \n",
        "# predictions have been made. Then start over with a new window of test data.\n",
        "def plot_results_multiple(predicted_data, true_data, prediction_len):\n",
        "    fig = plt.figure(facecolor='white')\n",
        "    ax = fig.add_subplot(111)\n",
        "    ax.plot(true_data, label='True Data')\n",
        "    \n",
        "    #Pad the list of predictions to shift it in the graph to it's correct start\n",
        "    for i, data in enumerate(predicted_data):\n",
        "        padding = [None for p in range(i * prediction_len)]\n",
        "        plt.plot(padding + data, label='Prediction')\n",
        "        plt.legend()\n",
        "    plt.show()\n",
        "\n",
        "\n",
        "# Function to load the data from CSV file, then generate overlapping windows of \n",
        "# data. Each window is normalized WRT to the first point in the window\n",
        "def load_data(URL, seq_len, normalise_window):\n",
        "    pd_data = pd.read_csv(URL)\n",
        "    data = pd_data.values\n",
        "\n",
        "    # Split up the data into a bunch of overlapping sequence windows\n",
        "    sequence_length = seq_len + 1\n",
        "    result = []\n",
        "    for index in range(len(data) - sequence_length):\n",
        "        result.append(data[index: index + sequence_length])\n",
        "    \n",
        "    if normalise_window:\n",
        "        result = normalise_windows(result)\n",
        "\n",
        "    result = np.array(result)\n",
        "\n",
        "    row = round(0.9 * result.shape[0])\n",
        "    train = result[:int(row), :]\n",
        "    np.random.shuffle(train)\n",
        "    x_train = train[:, :-1]\n",
        "    y_train = train[:, -1]\n",
        "    x_test = result[int(row):, :-1]\n",
        "    y_test = result[int(row):, -1]\n",
        "\n",
        "    x_train = np.reshape(x_train, (x_train.shape[0], x_train.shape[1], 1))\n",
        "    x_test = np.reshape(x_test, (x_test.shape[0], x_test.shape[1], 1))  \n",
        "\n",
        "    return [x_train, y_train, x_test, y_test]\n",
        "\n",
        "# Function to normalize a window of data by the first point\n",
        "# First point becomes 0, then subsequent points are % difference from initial\n",
        "def normalise_windows(window_data):\n",
        "    normalised_data = []\n",
        "    for window in window_data:\n",
        "        normalised_window = [((float(p) / float(window[0])) - 1) for p in window]\n",
        "        normalised_data.append(normalised_window)\n",
        "    return normalised_data\n",
        "\n",
        "\n",
        "# Function to predict 50 steps into the future, then reload model with new\n",
        "# window of data. Repeat...\n",
        "def predict_sequences_multiple(model, data, window_size, prediction_len):\n",
        "    #Predict sequence of 50 steps before shifting prediction run forward by 50 steps\n",
        "    prediction_seqs = []\n",
        "    for i in range(int(len(data)/prediction_len)):\n",
        "        curr_frame = data[i*prediction_len]\n",
        "        predicted = []\n",
        "        for j in range(prediction_len):\n",
        "            predicted.append(model.predict(curr_frame[newaxis,:,:])[0,0])\n",
        "            curr_frame = curr_frame[1:]\n",
        "            curr_frame = np.insert(curr_frame, [window_size-1], predicted[-1], axis=0)\n",
        "        prediction_seqs.append(predicted)\n",
        "    return prediction_seqs"
      ],
      "execution_count": 21,
      "outputs": []
    },
    {
      "cell_type": "markdown",
      "metadata": {
        "id": "U8nx8Sqb8PME"
      },
      "source": [
        "## Download the Historical Stock Data"
      ]
    },
    {
      "cell_type": "code",
      "metadata": {
        "id": "ov4xhjJB8T0g"
      },
      "source": [
        "#Step 1 Load Data\n",
        "URL = 'https://github.com/llSourcell/How-to-Predict-Stock-Prices-Easily-Demo/raw/master/sp500.csv'\n",
        "X_train, y_train, X_test, y_test = load_data(URL, 50, True)"
      ],
      "execution_count": 3,
      "outputs": []
    },
    {
      "cell_type": "markdown",
      "metadata": {
        "id": "vJbCf1tw8e9O"
      },
      "source": [
        "## Define and Build the LSTM Model"
      ]
    },
    {
      "cell_type": "code",
      "metadata": {
        "id": "x974E6Al8c9q",
        "outputId": "c98d7155-b4f6-411b-f9e7-ba7f94568f22",
        "colab": {
          "base_uri": "https://localhost:8080/",
          "height": 34
        }
      },
      "source": [
        "#Step 2 Build Model\n",
        "model = Sequential()\n",
        "\n",
        "#Adding the first LSTM layer and some Dropout regularisation\n",
        "model.add(LSTM(units = 100, return_sequences = True, input_shape = (X_train.shape[1], 1)))\n",
        "model.add(Dropout(0.2))\n",
        "# Adding a second LSTM layer and some Dropout regularisation\n",
        "model.add(LSTM(units = 100, return_sequences = True))\n",
        "model.add(Dropout(0.2))\n",
        "\n",
        "# Adding the output layer\n",
        "model.add(Dense(units = 1))\n",
        "\n",
        "start = time.time()\n",
        "model.compile(loss='mse', optimizer='rmsprop')\n",
        "print(f'compilation time : {time.time() - start}') "
      ],
      "execution_count": 26,
      "outputs": [
        {
          "output_type": "stream",
          "text": [
            "compilation time : 0.007446765899658203\n"
          ],
          "name": "stdout"
        }
      ]
    },
    {
      "cell_type": "code",
      "metadata": {
        "id": "g77Wsj2X9e8z",
        "outputId": "30d3e3ab-7ee3-47fc-85a0-904b887c119c",
        "colab": {
          "base_uri": "https://localhost:8080/",
          "height": 1000
        }
      },
      "source": [
        "#Step 3 Train the model\n",
        "model.fit(\n",
        "    X_train,\n",
        "    y_train,\n",
        "    batch_size=512,\n",
        "    epochs=50,\n",
        "    validation_split=0.05)"
      ],
      "execution_count": 27,
      "outputs": [
        {
          "output_type": "stream",
          "text": [
            "Epoch 1/50\n",
            "7/7 [==============================] - 1s 102ms/step - loss: 0.0044 - val_loss: 0.0032\n",
            "Epoch 2/50\n",
            "7/7 [==============================] - 0s 15ms/step - loss: 0.0033 - val_loss: 0.0029\n",
            "Epoch 3/50\n",
            "7/7 [==============================] - 0s 15ms/step - loss: 0.0032 - val_loss: 0.0032\n",
            "Epoch 4/50\n",
            "7/7 [==============================] - 0s 15ms/step - loss: 0.0031 - val_loss: 0.0030\n",
            "Epoch 5/50\n",
            "7/7 [==============================] - 0s 14ms/step - loss: 0.0030 - val_loss: 0.0028\n",
            "Epoch 6/50\n",
            "7/7 [==============================] - 0s 15ms/step - loss: 0.0032 - val_loss: 0.0028\n",
            "Epoch 7/50\n",
            "7/7 [==============================] - 0s 15ms/step - loss: 0.0030 - val_loss: 0.0028\n",
            "Epoch 8/50\n",
            "7/7 [==============================] - 0s 15ms/step - loss: 0.0029 - val_loss: 0.0030\n",
            "Epoch 9/50\n",
            "7/7 [==============================] - 0s 15ms/step - loss: 0.0030 - val_loss: 0.0028\n",
            "Epoch 10/50\n",
            "7/7 [==============================] - 0s 15ms/step - loss: 0.0029 - val_loss: 0.0027\n",
            "Epoch 11/50\n",
            "7/7 [==============================] - 0s 15ms/step - loss: 0.0030 - val_loss: 0.0028\n",
            "Epoch 12/50\n",
            "7/7 [==============================] - 0s 14ms/step - loss: 0.0029 - val_loss: 0.0027\n",
            "Epoch 13/50\n",
            "7/7 [==============================] - 0s 15ms/step - loss: 0.0029 - val_loss: 0.0027\n",
            "Epoch 14/50\n",
            "7/7 [==============================] - 0s 15ms/step - loss: 0.0029 - val_loss: 0.0030\n",
            "Epoch 15/50\n",
            "7/7 [==============================] - 0s 15ms/step - loss: 0.0029 - val_loss: 0.0027\n",
            "Epoch 16/50\n",
            "7/7 [==============================] - 0s 14ms/step - loss: 0.0029 - val_loss: 0.0027\n",
            "Epoch 17/50\n",
            "7/7 [==============================] - 0s 15ms/step - loss: 0.0028 - val_loss: 0.0027\n",
            "Epoch 18/50\n",
            "7/7 [==============================] - 0s 15ms/step - loss: 0.0028 - val_loss: 0.0027\n",
            "Epoch 19/50\n",
            "7/7 [==============================] - 0s 15ms/step - loss: 0.0029 - val_loss: 0.0027\n",
            "Epoch 20/50\n",
            "7/7 [==============================] - 0s 15ms/step - loss: 0.0028 - val_loss: 0.0027\n",
            "Epoch 21/50\n",
            "7/7 [==============================] - 0s 14ms/step - loss: 0.0028 - val_loss: 0.0027\n",
            "Epoch 22/50\n",
            "7/7 [==============================] - 0s 15ms/step - loss: 0.0029 - val_loss: 0.0026\n",
            "Epoch 23/50\n",
            "7/7 [==============================] - 0s 14ms/step - loss: 0.0029 - val_loss: 0.0027\n",
            "Epoch 24/50\n",
            "7/7 [==============================] - 0s 15ms/step - loss: 0.0028 - val_loss: 0.0026\n",
            "Epoch 25/50\n",
            "7/7 [==============================] - 0s 15ms/step - loss: 0.0028 - val_loss: 0.0027\n",
            "Epoch 26/50\n",
            "7/7 [==============================] - 0s 14ms/step - loss: 0.0028 - val_loss: 0.0027\n",
            "Epoch 27/50\n",
            "7/7 [==============================] - 0s 15ms/step - loss: 0.0028 - val_loss: 0.0026\n",
            "Epoch 28/50\n",
            "7/7 [==============================] - 0s 15ms/step - loss: 0.0028 - val_loss: 0.0026\n",
            "Epoch 29/50\n",
            "7/7 [==============================] - 0s 14ms/step - loss: 0.0028 - val_loss: 0.0027\n",
            "Epoch 30/50\n",
            "7/7 [==============================] - 0s 15ms/step - loss: 0.0028 - val_loss: 0.0026\n",
            "Epoch 31/50\n",
            "7/7 [==============================] - 0s 15ms/step - loss: 0.0028 - val_loss: 0.0026\n",
            "Epoch 32/50\n",
            "7/7 [==============================] - 0s 15ms/step - loss: 0.0028 - val_loss: 0.0026\n",
            "Epoch 33/50\n",
            "7/7 [==============================] - 0s 15ms/step - loss: 0.0028 - val_loss: 0.0026\n",
            "Epoch 34/50\n",
            "7/7 [==============================] - 0s 15ms/step - loss: 0.0028 - val_loss: 0.0026\n",
            "Epoch 35/50\n",
            "7/7 [==============================] - 0s 15ms/step - loss: 0.0028 - val_loss: 0.0026\n",
            "Epoch 36/50\n",
            "7/7 [==============================] - 0s 15ms/step - loss: 0.0028 - val_loss: 0.0026\n",
            "Epoch 37/50\n",
            "7/7 [==============================] - 0s 15ms/step - loss: 0.0028 - val_loss: 0.0026\n",
            "Epoch 38/50\n",
            "7/7 [==============================] - 0s 15ms/step - loss: 0.0028 - val_loss: 0.0026\n",
            "Epoch 39/50\n",
            "7/7 [==============================] - 0s 15ms/step - loss: 0.0028 - val_loss: 0.0027\n",
            "Epoch 40/50\n",
            "7/7 [==============================] - 0s 15ms/step - loss: 0.0028 - val_loss: 0.0026\n",
            "Epoch 41/50\n",
            "7/7 [==============================] - 0s 15ms/step - loss: 0.0028 - val_loss: 0.0028\n",
            "Epoch 42/50\n",
            "7/7 [==============================] - 0s 15ms/step - loss: 0.0028 - val_loss: 0.0026\n",
            "Epoch 43/50\n",
            "7/7 [==============================] - 0s 15ms/step - loss: 0.0028 - val_loss: 0.0027\n",
            "Epoch 44/50\n",
            "7/7 [==============================] - 0s 15ms/step - loss: 0.0028 - val_loss: 0.0026\n",
            "Epoch 45/50\n",
            "7/7 [==============================] - 0s 15ms/step - loss: 0.0028 - val_loss: 0.0026\n",
            "Epoch 46/50\n",
            "7/7 [==============================] - 0s 15ms/step - loss: 0.0028 - val_loss: 0.0027\n",
            "Epoch 47/50\n",
            "7/7 [==============================] - 0s 15ms/step - loss: 0.0028 - val_loss: 0.0026\n",
            "Epoch 48/50\n",
            "7/7 [==============================] - 0s 15ms/step - loss: 0.0028 - val_loss: 0.0027\n",
            "Epoch 49/50\n",
            "7/7 [==============================] - 0s 15ms/step - loss: 0.0028 - val_loss: 0.0026\n",
            "Epoch 50/50\n",
            "7/7 [==============================] - 0s 15ms/step - loss: 0.0028 - val_loss: 0.0026\n"
          ],
          "name": "stdout"
        },
        {
          "output_type": "execute_result",
          "data": {
            "text/plain": [
              "<tensorflow.python.keras.callbacks.History at 0x7fa93eb7d7f0>"
            ]
          },
          "metadata": {
            "tags": []
          },
          "execution_count": 27
        }
      ]
    },
    {
      "cell_type": "code",
      "metadata": {
        "id": "5boo2rrB-lEN",
        "outputId": "bf19ee08-87f5-4e2b-96b7-f3ccf7c2c76b",
        "colab": {
          "base_uri": "https://localhost:8080/",
          "height": 266
        }
      },
      "source": [
        "#Step 4 - Plot the predictions!\n",
        "predictions = predict_sequences_multiple(model, X_test, 50, 50)\n",
        "plot_results_multiple(predictions, y_test, 50)"
      ],
      "execution_count": 28,
      "outputs": [
        {
          "output_type": "display_data",
          "data": {
            "image/png": "[encoded data removed]",
            "text/plain": [
              "<Figure size 432x288 with 1 Axes>"
            ]
          },
          "metadata": {
            "tags": []
          }
        }
      ]
    },
    {
      "cell_type": "markdown",
      "metadata": {
        "id": "8Nml9zuoAJcw"
      },
      "source": [
        "# Takeaway Messages\n",
        "\n",
        "* Keras is the **high-level API of TensorFlow 2.0**, meant to be an approchable and highly-productive interface for solving machine learning problems, with a focus on modern deep learning.\n",
        "* Convolutional neural networks (CNN) are a class of deep neural networks, **most commonly applied to analyzing visual imagery**. \n",
        "* CNNs are **shift invariant** or **space invariant artificial neural networks**, based on their shared-weights architecture and translation invariance characteristics.\n",
        "* A **benchmark dataset** is a reference database against which learning models are evaluated and performance assessed to determine whether or not a given approach is superior over another.\n",
        "* The CIFAR-10 dataset consists of 60,000 32x32 colour images in 10 classes, with 6,000 images per class. There are 50,000 training images and 10,000 test images.\n",
        "* The **[f1-score](https://scikit-learn.org/stable/modules/generated/sklearn.metrics.f1_score.html)** gives you the **harmonic mean of precision and recall**. The scores corresponding to every class will tell you the accuracy of the classifier in classifying the data points in that particular class compared to all other classes.\n",
        "* The **[support](https://scikit-learn.org/stable/modules/generated/sklearn.metrics.precision_recall_fscore_support.html)** is the **number of samples of the true response** that lie in **that class**.\n",
        "* **Long short-term memory (LSTM)** is an artificial recurrent neural network (RNN) architecture used in the field of deep learning. \n",
        "* Unlike standard feedforward neural networks, LSTMs have feedback connections.\n",
        "* A common architecture is composed of a **cell** (the memory part of the LSTM unit) and three **\"regulators\", usually called gates**, of the flow of information inside the LSTM unit: an **input gate**, an **output gate** and a **forget gate**. \n",
        "* **Vanishing Gradients Problem:** A problem with using gradient descent for standard RNNs is that error gradients vanish exponentially quickly with the size of the time lag between important events.\n"
      ]
    }
  ]
}